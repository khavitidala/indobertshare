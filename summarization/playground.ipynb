{
 "cells": [
  {
   "cell_type": "code",
   "execution_count": 1,
   "id": "34e09501",
   "metadata": {},
   "outputs": [
    {
     "name": "stdout",
     "output_type": "stream",
     "text": [
      "/opt/conda/lib/python3.8/site-packages/gdown/cli.py:121: FutureWarning: Option `--id` was deprecated in version 4.3.1 and will be removed in 5.0. You don't need to pass it anymore to use a file ID.\n",
      "  warnings.warn(\n",
      "Downloading...\n",
      "From: https://drive.google.com/uc?id=1GhB2jzt_fbzUQBPr4fj6Ng2AG8ngf8Bq\n",
      "To: /home/indobertshare-main/summarization/checkpoint-100000.tar.gz\n",
      "100%|██████████████████████████████████████| 1.84G/1.84G [00:32<00:00, 56.9MB/s]\n",
      "checkpoint-100000/\n",
      "checkpoint-100000/config.json\n",
      "checkpoint-100000/pytorch_model.bin\n",
      "checkpoint-100000/tokenizer_config.json\n",
      "checkpoint-100000/special_tokens_map.json\n",
      "checkpoint-100000/vocab.txt\n",
      "checkpoint-100000/training_args.bin\n",
      "checkpoint-100000/optimizer.pt\n",
      "checkpoint-100000/scheduler.pt\n",
      "checkpoint-100000/trainer_state.json\n",
      "/opt/conda/lib/python3.8/site-packages/gdown/cli.py:121: FutureWarning: Option `--id` was deprecated in version 4.3.1 and will be removed in 5.0. You don't need to pass it anymore to use a file ID.\n",
      "  warnings.warn(\n",
      "Downloading...\n",
      "From: https://drive.google.com/uc?id=1zu474skm3l2ZN0biCa2M-pc02hVSGOxV\n",
      "To: /home/indobertshare-main/summarization/checkpoint-150000.tar.gz\n",
      "100%|██████████████████████████████████████| 1.84G/1.84G [00:32<00:00, 56.5MB/s]\n",
      "checkpoint-150000/\n",
      "checkpoint-150000/config.json\n",
      "checkpoint-150000/pytorch_model.bin\n",
      "checkpoint-150000/tokenizer_config.json\n",
      "checkpoint-150000/special_tokens_map.json\n",
      "checkpoint-150000/vocab.txt\n",
      "checkpoint-150000/training_args.bin\n",
      "checkpoint-150000/optimizer.pt\n",
      "checkpoint-150000/scheduler.pt\n",
      "checkpoint-150000/trainer_state.json\n",
      "/opt/conda/lib/python3.8/site-packages/gdown/cli.py:121: FutureWarning: Option `--id` was deprecated in version 4.3.1 and will be removed in 5.0. You don't need to pass it anymore to use a file ID.\n",
      "  warnings.warn(\n",
      "Downloading...\n",
      "From: https://drive.google.com/uc?id=1tSIfX-7Z-4h4D2nNbFtfEyXVbHhDgXbb\n",
      "To: /home/indobertshare-main/summarization/checkpoint-200000.tar.gz\n",
      "100%|██████████████████████████████████████| 1.84G/1.84G [00:32<00:00, 57.2MB/s]\n",
      "checkpoint-200000/\n",
      "checkpoint-200000/config.json\n",
      "checkpoint-200000/pytorch_model.bin\n",
      "checkpoint-200000/tokenizer_config.json\n",
      "checkpoint-200000/special_tokens_map.json\n",
      "checkpoint-200000/vocab.txt\n",
      "checkpoint-200000/training_args.bin\n",
      "checkpoint-200000/optimizer.pt\n",
      "checkpoint-200000/scheduler.pt\n",
      "checkpoint-200000/trainer_state.json\n",
      "/opt/conda/lib/python3.8/site-packages/gdown/cli.py:121: FutureWarning: Option `--id` was deprecated in version 4.3.1 and will be removed in 5.0. You don't need to pass it anymore to use a file ID.\n",
      "  warnings.warn(\n",
      "Downloading...\n",
      "From: https://drive.google.com/uc?id=1lqJW3Rcsdowc2qEFlM-zmftvwhq0kUQC\n",
      "To: /home/indobertshare-main/summarization/checkpoint-250000.tar.gz\n",
      "100%|██████████████████████████████████████| 1.84G/1.84G [00:31<00:00, 57.9MB/s]\n",
      "checkpoint-250000/\n",
      "checkpoint-250000/config.json\n",
      "checkpoint-250000/pytorch_model.bin\n",
      "checkpoint-250000/tokenizer_config.json\n",
      "checkpoint-250000/special_tokens_map.json\n",
      "checkpoint-250000/vocab.txt\n",
      "checkpoint-250000/training_args.bin\n",
      "checkpoint-250000/optimizer.pt\n",
      "checkpoint-250000/scheduler.pt\n",
      "checkpoint-250000/trainer_state.json\n",
      "/opt/conda/lib/python3.8/site-packages/gdown/cli.py:121: FutureWarning: Option `--id` was deprecated in version 4.3.1 and will be removed in 5.0. You don't need to pass it anymore to use a file ID.\n",
      "  warnings.warn(\n",
      "Downloading...\n",
      "From: https://drive.google.com/uc?id=1MFVVX2k7qHklLaLSQgaVPMFWVgytT2Zh\n",
      "To: /home/indobertshare-main/summarization/checkpoint-300000.tar.gz\n",
      "100%|██████████████████████████████████████| 1.84G/1.84G [00:32<00:00, 56.3MB/s]\n",
      "checkpoint-300000/\n",
      "checkpoint-300000/config.json\n",
      "checkpoint-300000/pytorch_model.bin\n",
      "checkpoint-300000/tokenizer_config.json\n",
      "checkpoint-300000/special_tokens_map.json\n",
      "checkpoint-300000/vocab.txt\n",
      "checkpoint-300000/training_args.bin\n",
      "checkpoint-300000/optimizer.pt\n",
      "checkpoint-300000/scheduler.pt\n",
      "checkpoint-300000/trainer_state.json\n"
     ]
    }
   ],
   "source": [
    "# checkpoint-100000\n",
    "!gdown --id 1GhB2jzt_fbzUQBPr4fj6Ng2AG8ngf8Bq\n",
    "!tar -xvf checkpoint-100000.tar.gz\n",
    "\n",
    "# checkpoint-150000\n",
    "!gdown --id 1zu474skm3l2ZN0biCa2M-pc02hVSGOxV\n",
    "!tar -xvf checkpoint-150000.tar.gz\n",
    "\n",
    "# checkpoint-200000\n",
    "!gdown --id 1tSIfX-7Z-4h4D2nNbFtfEyXVbHhDgXbb\n",
    "!tar -xvf checkpoint-200000.tar.gz\n",
    "\n",
    "# checkpoint-250000\n",
    "!gdown --id 1lqJW3Rcsdowc2qEFlM-zmftvwhq0kUQC\n",
    "!tar -xvf checkpoint-250000.tar.gz\n",
    "\n",
    "# checkpoint-300000\n",
    "!gdown --id 1MFVVX2k7qHklLaLSQgaVPMFWVgytT2Zh\n",
    "!tar -xvf checkpoint-300000.tar.gz"
   ]
  },
  {
   "cell_type": "code",
   "execution_count": 1,
   "id": "9f6aa0b4",
   "metadata": {},
   "outputs": [],
   "source": [
    "import pandas as pd"
   ]
  },
  {
   "cell_type": "code",
   "execution_count": 12,
   "id": "7f779d17",
   "metadata": {},
   "outputs": [],
   "source": [
    "import glob"
   ]
  },
  {
   "cell_type": "code",
   "execution_count": 13,
   "id": "c4da2322",
   "metadata": {},
   "outputs": [],
   "source": [
    "result = []\n",
    "for f in glob.glob(\"liputan6_extended/*extraction_results.csv\"):\n",
    "    with open(f, \"r\") as infile:\n",
    "        result.append(pd.read_csv(infile))\n",
    "mergejson = pd.concat(result)\n",
    "mergejson.to_csv(f\"liputan6_generated_all.csv\", index=False)"
   ]
  },
  {
   "cell_type": "code",
   "execution_count": 3,
   "id": "756f01bf",
   "metadata": {},
   "outputs": [],
   "source": [
    "df = pd.read_csv(\"/workspace/indobertshare-main/liputan6-1667267805-final_result.csv\")"
   ]
  },
  {
   "cell_type": "code",
   "execution_count": 4,
   "id": "b6ee82cd",
   "metadata": {},
   "outputs": [
    {
     "data": {
      "text/plain": [
       "125936"
      ]
     },
     "execution_count": 4,
     "metadata": {},
     "output_type": "execute_result"
    }
   ],
   "source": [
    "len(df)"
   ]
  },
  {
   "cell_type": "code",
   "execution_count": 8,
   "id": "0f6a488b",
   "metadata": {},
   "outputs": [
    {
     "data": {
      "text/html": [
       "<table border=\"1\" class=\"dataframe\">\n",
       "  <thead>\n",
       "    <tr style=\"text-align: right;\">\n",
       "      <th></th>\n",
       "      <th>summary</th>\n",
       "      <th>generated_summary</th>\n",
       "      <th>bert_score</th>\n",
       "      <th>ibleu_score</th>\n",
       "    </tr>\n",
       "  </thead>\n",
       "  <tbody>\n",
       "    <tr>\n",
       "      <th>0</th>\n",
       "      <td>Seorang perempuan cantik yang berhasil selamat ketika terjatuh dari lantai 17 sebuah apartemen membuat publik tercengang .</td>\n",
       "      <td>marina lebedeva mengalami patah tulang setelah terjatuh dari lantai 17 sebuah apartemen. insiden ini sontak membuat publik tercengang.</td>\n",
       "      <td>83.59</td>\n",
       "      <td>64.11</td>\n",
       "    </tr>\n",
       "    <tr>\n",
       "      <th>1</th>\n",
       "      <td>Ratusan peserta dan puluhan peneliti dari dalam dan luar negeri berkumpul di Jakarta dalam Simposium Penelitian dan Pengembangan Kesehatan .</td>\n",
       "      <td>ratusan peserta dan puluhan peneliti dari dalam dan luar negeri berkumpul di jakarta dalam simposium penelitian danpengembangan kesehatan regional asia pasifik ke 2.</td>\n",
       "      <td>86.37</td>\n",
       "      <td>56.39</td>\n",
       "    </tr>\n",
       "    <tr>\n",
       "      <th>2</th>\n",
       "      <td>Harga BBM naik sekitar Rp 2 . 000 diperkirakan akan memengaruhi harga obat .</td>\n",
       "      <td>kenaikan harga bahan bakar minyak ( bbm ) premium sekitar rp 2. 000 diperkirakan akan memengaruhi harga obat. \" saya kira itu dolar kalau buatan sendiri tergantung alat kesehatan apa, \" kata menkes.</td>\n",
       "      <td>79.65</td>\n",
       "      <td>88.17</td>\n",
       "    </tr>\n",
       "    <tr>\n",
       "      <th>3</th>\n",
       "      <td>Ketika usia semakin bertambah , struktur jaringan dan otot yang mendukung kelopak mata Anda melemah .</td>\n",
       "      <td>ketika usia semakin bertambah, struktur jaringan dan otot yang mendukung kelopak mata anda melemah, dan timbul kantong mata. sementara, ruang bawah mata anda bisa menumpuk cairan sehingga membuat tampak bengkak.</td>\n",
       "      <td>86.16</td>\n",
       "      <td>77.11</td>\n",
       "    </tr>\n",
       "    <tr>\n",
       "      <th>4</th>\n",
       "      <td>Siswa-siswi yang duduk di bangku SMA tengah berjuang menghadapi ujian nasional . Jika tak lulus ujian , maka mereka tak dapat melanjutkan ke tingkat pendidikan selanjutnya .</td>\n",
       "      <td>ujian nasional adalah sistem evaluasi standar pendidikan dasar dan menengah secara nasional dan persamaan mutu tingkat pendidikan antardaerah. saat ini, siswa - siswi yang duduk di bangku sekolah menengah atas tengah berjuang menghadapi ujian nasional. jika tak lulus ujian, maka mereka tak dapat melanjutkan ke tingkat pendidikan selanjutnya, kecuali mengambil sistem kejar paket c. eits jangan takut, kevin aprilio punya 4 tips saat bertarung melawan soal - soal ujian</td>\n",
       "      <td>79.15</td>\n",
       "      <td>88.25</td>\n",
       "    </tr>\n",
       "    <tr>\n",
       "      <th>5</th>\n",
       "      <td>Putri pasangan Anang Hermansyah dan Kridayanti itu ingin sekali mengakhiri masa lajangnya diusia 23 tahun .</td>\n",
       "      <td>putri pasangan anang hermansyah dan kridayanti itu ingin sekali mengakhiri masa lajangnya di usia 23 tahun. putri pertama itu kini telah memiliki pasangan yang mau menikah namun mentalnya harus mental dan mental.</td>\n",
       "      <td>83.21</td>\n",
       "      <td>86.91</td>\n",
       "    </tr>\n",
       "    <tr>\n",
       "      <th>6</th>\n",
       "      <td>Kalau tak ada aral melintang , Audy Item akan melahirkan 2 bulan lagi . Saat ini kandungan Audy sudah memasuki bulan ke-7 .</td>\n",
       "      <td>kalau tak ada aral melintang, audy item akan melahirkan 2 bulan lagi. saat ini kandungan audy sudah memasuki bulan ke - 7. \" sudah berjalan 7 bulan. ust bulan lagi melahirkan, \" kata audy.</td>\n",
       "      <td>86.81</td>\n",
       "      <td>78.86</td>\n",
       "    </tr>\n",
       "    <tr>\n",
       "      <th>7</th>\n",
       "      <td>Pelatih asal Argentina Diego Simeone telah menyepakati kontrak baru dengan Atletico Madrid selama empat tahun . Simeone pun akan terikat kontrak di Vicente Calderon sampai tahun 2017 .</td>\n",
       "      <td>pelatih asal argentina, diego simeone telah menyepakati kontrak baru dengan atletico madrid selama empat tahun. perpanjangan kontrak yang berlaku sampai 2017 ini dilansir media spanyol as.</td>\n",
       "      <td>80.02</td>\n",
       "      <td>77.43</td>\n",
       "    </tr>\n",
       "    <tr>\n",
       "      <th>8</th>\n",
       "      <td>Benjina tengah dalam proses penyidikan karena tersangkut kasus perbudakan dan perdagangan manusia .</td>\n",
       "      <td>menteri kelautan dan perikanan susi pudjiastuti mendapatkan laporan pabrik pengolahan ikan pt pusaka benjina resources kembali beroperasi. padahal, status perusahaan tersebut tengah dalam proses penyidikan karena tersangkut kasus perbudakan dan perdagangan manusia.</td>\n",
       "      <td>82.62</td>\n",
       "      <td>83.21</td>\n",
       "    </tr>\n",
       "    <tr>\n",
       "      <th>9</th>\n",
       "      <td>Rumah Sakit Pertamedia Sentul City akan menggelar operasi bibir sumbing , katarak dan hernia secara gratis .</td>\n",
       "      <td>rumah sakit pertamedika sentul city akan menggelar operasi bibir sumbing, katarak dan hernia secara gratis pada 2 - 4 november 2015. acara yang digagas pt pertamina persero inipun persyaratannya cukup mudah.</td>\n",
       "      <td>82.32</td>\n",
       "      <td>77.06</td>\n",
       "    </tr>\n",
       "  </tbody>\n",
       "</table>"
      ],
      "text/plain": [
       "<IPython.core.display.HTML object>"
      ]
     },
     "metadata": {},
     "output_type": "display_data"
    }
   ],
   "source": [
    "from IPython.display import display, HTML\n",
    "from copy import deepcopy\n",
    "\n",
    "dfx = deepcopy(df[:10])\n",
    "del dfx[\"Unnamed: 0\"]\n",
    "display(HTML(dfx.to_html()))"
   ]
  },
  {
   "cell_type": "code",
   "execution_count": null,
   "id": "1b79cae2",
   "metadata": {},
   "outputs": [],
   "source": []
  }
 ],
 "metadata": {
  "kernelspec": {
   "display_name": "Python 3 (ipykernel)",
   "language": "python",
   "name": "python3"
  },
  "language_info": {
   "codemirror_mode": {
    "name": "ipython",
    "version": 3
   },
   "file_extension": ".py",
   "mimetype": "text/x-python",
   "name": "python",
   "nbconvert_exporter": "python",
   "pygments_lexer": "ipython3",
   "version": "3.8.12"
  }
 },
 "nbformat": 4,
 "nbformat_minor": 5
}
