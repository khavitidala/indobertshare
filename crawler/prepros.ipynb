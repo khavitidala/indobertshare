{
 "cells": [
  {
   "cell_type": "code",
   "execution_count": 1,
   "id": "c0704fff",
   "metadata": {},
   "outputs": [],
   "source": [
    "import pandas as pd"
   ]
  },
  {
   "cell_type": "code",
   "execution_count": 56,
   "id": "37bcbf03",
   "metadata": {},
   "outputs": [],
   "source": [
    "df = pd.read_csv(\"rawurl.csv\", names=[\"urls\"])"
   ]
  },
  {
   "cell_type": "code",
   "execution_count": 57,
   "id": "98e7d15b",
   "metadata": {},
   "outputs": [
    {
     "data": {
      "text/html": [
       "<div>\n",
       "<style scoped>\n",
       "    .dataframe tbody tr th:only-of-type {\n",
       "        vertical-align: middle;\n",
       "    }\n",
       "\n",
       "    .dataframe tbody tr th {\n",
       "        vertical-align: top;\n",
       "    }\n",
       "\n",
       "    .dataframe thead th {\n",
       "        text-align: right;\n",
       "    }\n",
       "</style>\n",
       "<table border=\"1\" class=\"dataframe\">\n",
       "  <thead>\n",
       "    <tr style=\"text-align: right;\">\n",
       "      <th></th>\n",
       "      <th>urls</th>\n",
       "    </tr>\n",
       "  </thead>\n",
       "  <tbody>\n",
       "    <tr>\n",
       "      <th>0</th>\n",
       "      <td>https://www.liputan6.com/indonesia-baru/read/2...</td>\n",
       "    </tr>\n",
       "    <tr>\n",
       "      <th>1</th>\n",
       "      <td>https://www.liputan6.com/news/read/2200000/ser...</td>\n",
       "    </tr>\n",
       "    <tr>\n",
       "      <th>2</th>\n",
       "      <td>https://www.liputan6.com/bola/read/2200004/ney...</td>\n",
       "    </tr>\n",
       "    <tr>\n",
       "      <th>3</th>\n",
       "      <td>https://www.liputan6.com/news/read/2200005/ceg...</td>\n",
       "    </tr>\n",
       "    <tr>\n",
       "      <th>4</th>\n",
       "      <td>https://www.liputan6.com/bisnis/read/2200006/t...</td>\n",
       "    </tr>\n",
       "  </tbody>\n",
       "</table>\n",
       "</div>"
      ],
      "text/plain": [
       "                                                urls\n",
       "0  https://www.liputan6.com/indonesia-baru/read/2...\n",
       "1  https://www.liputan6.com/news/read/2200000/ser...\n",
       "2  https://www.liputan6.com/bola/read/2200004/ney...\n",
       "3  https://www.liputan6.com/news/read/2200005/ceg...\n",
       "4  https://www.liputan6.com/bisnis/read/2200006/t..."
      ]
     },
     "execution_count": 57,
     "metadata": {},
     "output_type": "execute_result"
    }
   ],
   "source": [
    "df = df[df[\"urls\"].str.contains(\"liputan6.com\")]\n",
    "df = df[~df[\"urls\"].str.contains(\"/video/\")]\n",
    "df.reset_index(inplace=True)\n",
    "df = df.drop(columns=[\"index\"])\n",
    "df = df.dropna()\n",
    "df.head()"
   ]
  },
  {
   "cell_type": "code",
   "execution_count": 58,
   "id": "9fcf68f7",
   "metadata": {},
   "outputs": [
    {
     "data": {
      "text/plain": [
       "575774"
      ]
     },
     "execution_count": 58,
     "metadata": {},
     "output_type": "execute_result"
    }
   ],
   "source": [
    "len(df)"
   ]
  },
  {
   "cell_type": "code",
   "execution_count": 83,
   "id": "b6fe0bda",
   "metadata": {},
   "outputs": [],
   "source": [
    "n = 50000\n",
    "listdf = [df.iloc[i*n:(i+1)*n, :] for i in range(len(df)//n)]"
   ]
  },
  {
   "cell_type": "code",
   "execution_count": 84,
   "id": "4695cb68",
   "metadata": {},
   "outputs": [],
   "source": [
    "listdf.append(df.iloc[(len(df)//n)*n:((len(df)//n)*n)+(len(df)-(len(df)//n)*n)])"
   ]
  },
  {
   "cell_type": "code",
   "execution_count": 85,
   "id": "a96df931",
   "metadata": {},
   "outputs": [
    {
     "data": {
      "text/html": [
       "<div>\n",
       "<style scoped>\n",
       "    .dataframe tbody tr th:only-of-type {\n",
       "        vertical-align: middle;\n",
       "    }\n",
       "\n",
       "    .dataframe tbody tr th {\n",
       "        vertical-align: top;\n",
       "    }\n",
       "\n",
       "    .dataframe thead th {\n",
       "        text-align: right;\n",
       "    }\n",
       "</style>\n",
       "<table border=\"1\" class=\"dataframe\">\n",
       "  <thead>\n",
       "    <tr style=\"text-align: right;\">\n",
       "      <th></th>\n",
       "      <th>urls</th>\n",
       "    </tr>\n",
       "  </thead>\n",
       "  <tbody>\n",
       "    <tr>\n",
       "      <th>550000</th>\n",
       "      <td>https://www.liputan6.com/bisnis/read/822856/rp...</td>\n",
       "    </tr>\n",
       "    <tr>\n",
       "      <th>550001</th>\n",
       "      <td>https://www.liputan6.com/news/read/822741/tran...</td>\n",
       "    </tr>\n",
       "    <tr>\n",
       "      <th>550002</th>\n",
       "      <td>https://www.liputan6.com/bola/read/822747/kece...</td>\n",
       "    </tr>\n",
       "    <tr>\n",
       "      <th>550003</th>\n",
       "      <td>https://www.liputan6.com/tekno/read/822816/bla...</td>\n",
       "    </tr>\n",
       "    <tr>\n",
       "      <th>550004</th>\n",
       "      <td>https://www.liputan6.com/tekno/read/822864/dem...</td>\n",
       "    </tr>\n",
       "    <tr>\n",
       "      <th>...</th>\n",
       "      <td>...</td>\n",
       "    </tr>\n",
       "    <tr>\n",
       "      <th>575769</th>\n",
       "      <td>https://www.liputan6.com/bisnis/read/799623/ba...</td>\n",
       "    </tr>\n",
       "    <tr>\n",
       "      <th>575770</th>\n",
       "      <td>https://www.liputan6.com/showbiz/read/799232/f...</td>\n",
       "    </tr>\n",
       "    <tr>\n",
       "      <th>575771</th>\n",
       "      <td>https://www.liputan6.com/health/read/799889/ag...</td>\n",
       "    </tr>\n",
       "    <tr>\n",
       "      <th>575772</th>\n",
       "      <td>https://www.liputan6.com/news/read/799624/peng...</td>\n",
       "    </tr>\n",
       "    <tr>\n",
       "      <th>575773</th>\n",
       "      <td>https://www.liputan6.com/indonesia-baru/read/7...</td>\n",
       "    </tr>\n",
       "  </tbody>\n",
       "</table>\n",
       "<p>25774 rows × 1 columns</p>\n",
       "</div>"
      ],
      "text/plain": [
       "                                                     urls\n",
       "550000  https://www.liputan6.com/bisnis/read/822856/rp...\n",
       "550001  https://www.liputan6.com/news/read/822741/tran...\n",
       "550002  https://www.liputan6.com/bola/read/822747/kece...\n",
       "550003  https://www.liputan6.com/tekno/read/822816/bla...\n",
       "550004  https://www.liputan6.com/tekno/read/822864/dem...\n",
       "...                                                   ...\n",
       "575769  https://www.liputan6.com/bisnis/read/799623/ba...\n",
       "575770  https://www.liputan6.com/showbiz/read/799232/f...\n",
       "575771  https://www.liputan6.com/health/read/799889/ag...\n",
       "575772  https://www.liputan6.com/news/read/799624/peng...\n",
       "575773  https://www.liputan6.com/indonesia-baru/read/7...\n",
       "\n",
       "[25774 rows x 1 columns]"
      ]
     },
     "execution_count": 85,
     "metadata": {},
     "output_type": "execute_result"
    }
   ],
   "source": [
    "listdf[-1]"
   ]
  },
  {
   "cell_type": "code",
   "execution_count": 86,
   "id": "278b6375",
   "metadata": {},
   "outputs": [],
   "source": [
    "for i, dataf in enumerate(listdf):\n",
    "    dataf.to_csv(f\"url-{i}.csv\", index=False)"
   ]
  }
 ],
 "metadata": {
  "kernelspec": {
   "display_name": "Python 3 (ipykernel)",
   "language": "python",
   "name": "python3"
  },
  "language_info": {
   "codemirror_mode": {
    "name": "ipython",
    "version": 3
   },
   "file_extension": ".py",
   "mimetype": "text/x-python",
   "name": "python",
   "nbconvert_exporter": "python",
   "pygments_lexer": "ipython3",
   "version": "3.9.9"
  }
 },
 "nbformat": 4,
 "nbformat_minor": 5
}
